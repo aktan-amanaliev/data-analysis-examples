{
 "cells": [
  {
   "cell_type": "code",
   "execution_count": 51,
   "metadata": {},
   "outputs": [],
   "source": [
    "import pandas as pd\n",
    "import numpy as np\n",
    "import re"
   ]
  },
  {
   "cell_type": "code",
   "execution_count": 52,
   "metadata": {},
   "outputs": [],
   "source": [
    "df = pd.read_csv('data/Minjust2018.csv', \n",
    "                 header=None, \n",
    "                 usecols=[4, 27, 28, 33])\n",
    "df.fillna('', inplace=True)\n",
    "df.rename(columns={4: 'name', \n",
    "                   27: 'director', \n",
    "                   28: 'activity', \n",
    "                   33: 'founders'},\n",
    "              inplace = True)"
   ]
  },
  {
   "cell_type": "code",
   "execution_count": 58,
   "metadata": {},
   "outputs": [],
   "source": [
    "def child_regex(surname, name):\n",
    "    pattern = re.compile(surname +\n",
    "                         r'а?\\s+\\w+\\s+' + # First name\n",
    "                         remove_vowels(name) + # Patronymic\n",
    "                         r'|' + \n",
    "                         r'\\w+\\s+' + # First name\n",
    "                         remove_vowels(name) + r'\\w+\\s+' + # Patronymic\n",
    "                         surname,\n",
    "                         re.IGNORECASE)\n",
    "    return pattern\n",
    "\n",
    "def remove_vowels(name):\n",
    "    while True:\n",
    "        if name[-1] not in ['а', 'о', 'и', 'е', 'ё', 'э', 'ы', 'у', 'ю', 'я', 'й']:\n",
    "            break\n",
    "        else:\n",
    "            name = name[: -1]\n",
    "    return name\n",
    "\n",
    "def brother_regex(name, patronymic, surname):\n",
    "    pattern = re.compile(surname +\n",
    "                         r'а?\\s+\\w+\\s+' + # First name\n",
    "                         patronymic + # Patronymic\n",
    "                         r'|' + \n",
    "                         r'\\w+\\s+' + # First name\n",
    "                         patronymic + # Patronymic\n",
    "                         surname,\n",
    "                         re.IGNORECASE)\n",
    "    return pattern\n",
    "\n",
    "def only_vowels():\n",
    "    pattern = re.compile(r'[\\s\\a]+[аоиеёэыуюяй]+[\\s$]',re.IGNORECASE)\n",
    "    return pattern\n",
    "\n",
    "pattern = re.compile(r'\\A[аоиеёэыуюяй]+\\s',re.IGNORECASE)"
   ]
  },
  {
   "cell_type": "code",
   "execution_count": 62,
   "metadata": {},
   "outputs": [
    {
     "data": {
      "text/html": [
       "<div>\n",
       "<style scoped>\n",
       "    .dataframe tbody tr th:only-of-type {\n",
       "        vertical-align: middle;\n",
       "    }\n",
       "\n",
       "    .dataframe tbody tr th {\n",
       "        vertical-align: top;\n",
       "    }\n",
       "\n",
       "    .dataframe thead th {\n",
       "        text-align: right;\n",
       "    }\n",
       "</style>\n",
       "<table border=\"1\" class=\"dataframe\">\n",
       "  <thead>\n",
       "    <tr style=\"text-align: right;\">\n",
       "      <th></th>\n",
       "      <th>name</th>\n",
       "      <th>director</th>\n",
       "      <th>activity</th>\n",
       "      <th>founders</th>\n",
       "    </tr>\n",
       "  </thead>\n",
       "  <tbody>\n",
       "    <tr>\n",
       "      <th>76421</th>\n",
       "      <td>Общественный фонд \"Про Лекс имени Темира Джума...</td>\n",
       "      <td>Суюналиева Нора Суеркуловна</td>\n",
       "      <td>Деятельность прочих общественных организаций, ...</td>\n",
       "      <td>Исаков Сапар Джумакадырович, Суюналиева Нора С...</td>\n",
       "    </tr>\n",
       "  </tbody>\n",
       "</table>\n",
       "</div>"
      ],
      "text/plain": [
       "                                                    name  \\\n",
       "76421  Общественный фонд \"Про Лекс имени Темира Джума...   \n",
       "\n",
       "                           director  \\\n",
       "76421  Суюналиева Нора Суеркуловна    \n",
       "\n",
       "                                                activity  \\\n",
       "76421  Деятельность прочих общественных организаций, ...   \n",
       "\n",
       "                                                founders  \n",
       "76421  Исаков Сапар Джумакадырович, Суюналиева Нора С...  "
      ]
     },
     "execution_count": 62,
     "metadata": {},
     "output_type": "execute_result"
    }
   ],
   "source": [
    "#child_regex('Боронов', 'Кубатбек')\n",
    "#only_vowels()\n",
    "#df.loc[df['director'].str.contains()]\n",
    "\n",
    "#df.loc[df['founders'].str.contains(child_regex('БОРОНОВ', 'Кубатбек'))]\n",
    "df.loc[df['founders'].str.contains(brother_regex('Джумакадырович','Исаков'))]"
   ]
  },
  {
   "cell_type": "code",
   "execution_count": null,
   "metadata": {},
   "outputs": [],
   "source": []
  }
 ],
 "metadata": {
  "kernelspec": {
   "display_name": "Python 3",
   "language": "python",
   "name": "python3"
  },
  "language_info": {
   "codemirror_mode": {
    "name": "ipython",
    "version": 3
   },
   "file_extension": ".py",
   "mimetype": "text/x-python",
   "name": "python",
   "nbconvert_exporter": "python",
   "pygments_lexer": "ipython3",
   "version": "3.7.0"
  }
 },
 "nbformat": 4,
 "nbformat_minor": 2
}
