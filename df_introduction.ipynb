{
 "cells": [
  {
   "cell_type": "code",
   "execution_count": 2,
   "metadata": {},
   "outputs": [],
   "source": [
    "import pandas as pd"
   ]
  },
  {
   "cell_type": "code",
   "execution_count": 3,
   "metadata": {},
   "outputs": [],
   "source": [
    "df = pd.read_csv('data/Minjust2018.csv', header=None, usecols = [4,13,14,16,19,27,28,33])\n",
    "df.rename(index=str, columns={4: \"Name\", 13: \"Region\",14: \"City\", 27: \"Director\", 28: \"Activity\", 33: \"Founders\", 16: \"Street\", 19: \"Phone\"}, inplace=True)"
   ]
  },
  {
   "cell_type": "code",
   "execution_count": 4,
   "metadata": {},
   "outputs": [],
   "source": [
    "df.fillna('', inplace=True)"
   ]
  },
  {
   "cell_type": "code",
   "execution_count": null,
   "metadata": {
    "scrolled": true
   },
   "outputs": [],
   "source": [
    "df.loc[df['City'].str.contains(\"Бишкек\")&df['Street'].str.contains(\"Токтогула\"),['Name','Street','Director']] #Task 1"
   ]
  },
  {
   "cell_type": "code",
   "execution_count": null,
   "metadata": {},
   "outputs": [],
   "source": [
    "df.loc[df['Founders'].str.contains(\"Актан\"),['Name','Street','Director']] #Task 2"
   ]
  },
  {
   "cell_type": "code",
   "execution_count": 8,
   "metadata": {},
   "outputs": [
    {
     "data": {
      "text/html": [
       "<div>\n",
       "<style scoped>\n",
       "    .dataframe tbody tr th:only-of-type {\n",
       "        vertical-align: middle;\n",
       "    }\n",
       "\n",
       "    .dataframe tbody tr th {\n",
       "        vertical-align: top;\n",
       "    }\n",
       "\n",
       "    .dataframe thead th {\n",
       "        text-align: right;\n",
       "    }\n",
       "</style>\n",
       "<table border=\"1\" class=\"dataframe\">\n",
       "  <thead>\n",
       "    <tr style=\"text-align: right;\">\n",
       "      <th></th>\n",
       "      <th>Name</th>\n",
       "      <th>Street</th>\n",
       "      <th>Director</th>\n",
       "    </tr>\n",
       "  </thead>\n",
       "  <tbody>\n",
       "  </tbody>\n",
       "</table>\n",
       "</div>"
      ],
      "text/plain": [
       "Empty DataFrame\n",
       "Columns: [Name, Street, Director]\n",
       "Index: []"
      ]
     },
     "execution_count": 8,
     "metadata": {},
     "output_type": "execute_result"
    }
   ],
   "source": [
    "#Task 3\n",
    "df.loc[df['Founders'].str.contains(\"Актан\")&df['City'].str.contains(\"Бишкек\")&df['Street'].str.contains(\"Токтогула\"),['Name','Street','Director']]"
   ]
  },
  {
   "cell_type": "code",
   "execution_count": 9,
   "metadata": {},
   "outputs": [
    {
     "data": {
      "text/html": [
       "<div>\n",
       "<style scoped>\n",
       "    .dataframe tbody tr th:only-of-type {\n",
       "        vertical-align: middle;\n",
       "    }\n",
       "\n",
       "    .dataframe tbody tr th {\n",
       "        vertical-align: top;\n",
       "    }\n",
       "\n",
       "    .dataframe thead th {\n",
       "        text-align: right;\n",
       "    }\n",
       "</style>\n",
       "<table border=\"1\" class=\"dataframe\">\n",
       "  <thead>\n",
       "    <tr style=\"text-align: right;\">\n",
       "      <th></th>\n",
       "      <th>Name</th>\n",
       "      <th>Street</th>\n",
       "      <th>Director</th>\n",
       "    </tr>\n",
       "  </thead>\n",
       "  <tbody>\n",
       "    <tr>\n",
       "      <th>4452</th>\n",
       "      <td>Общество с ограниченной ответственностью «МосС...</td>\n",
       "      <td>ул. Заводская</td>\n",
       "      <td>Шек Андрей Анатольевич</td>\n",
       "    </tr>\n",
       "    <tr>\n",
       "      <th>68017</th>\n",
       "      <td>Филиал Общества с ограниченной ответственность...</td>\n",
       "      <td>ул. Логвиненко</td>\n",
       "      <td>Синицын Виктор Александрович</td>\n",
       "    </tr>\n",
       "    <tr>\n",
       "      <th>77115</th>\n",
       "      <td>Общество с ограниченной ответственностью \"Адил...</td>\n",
       "      <td></td>\n",
       "      <td>Эргешов Нурлан Камчиевич</td>\n",
       "    </tr>\n",
       "    <tr>\n",
       "      <th>85882</th>\n",
       "      <td>Общество с ограниченной ответственностью \"Ала-...</td>\n",
       "      <td></td>\n",
       "      <td>Туйчиев Султанбек Сатангович</td>\n",
       "    </tr>\n",
       "    <tr>\n",
       "      <th>88964</th>\n",
       "      <td>Общество с ограниченной ответственностью \"Хонг...</td>\n",
       "      <td>пр. Масалиева</td>\n",
       "      <td>Ванг Юкин</td>\n",
       "    </tr>\n",
       "    <tr>\n",
       "      <th>91465</th>\n",
       "      <td>Общество с ограниченной ответственностью \"Чина...</td>\n",
       "      <td></td>\n",
       "      <td>Закиров Абдил-Насир Сооронбаевич</td>\n",
       "    </tr>\n",
       "    <tr>\n",
       "      <th>93797</th>\n",
       "      <td>Общество с ограниченной ответственностью \"Аясман\"</td>\n",
       "      <td></td>\n",
       "      <td>Григорьев Борис Георгевич</td>\n",
       "    </tr>\n",
       "    <tr>\n",
       "      <th>104906</th>\n",
       "      <td>Общество с ограниченной ответственностью \"МАКЕ...</td>\n",
       "      <td>ул.Ананьева</td>\n",
       "      <td>Осмонов Кайрат Аманжолович</td>\n",
       "    </tr>\n",
       "  </tbody>\n",
       "</table>\n",
       "</div>"
      ],
      "text/plain": [
       "                                                     Name          Street  \\\n",
       "4452    Общество с ограниченной ответственностью «МосС...   ул. Заводская   \n",
       "68017   Филиал Общества с ограниченной ответственность...  ул. Логвиненко   \n",
       "77115   Общество с ограниченной ответственностью \"Адил...                   \n",
       "85882   Общество с ограниченной ответственностью \"Ала-...                   \n",
       "88964   Общество с ограниченной ответственностью \"Хонг...   пр. Масалиева   \n",
       "91465   Общество с ограниченной ответственностью \"Чина...                   \n",
       "93797   Общество с ограниченной ответственностью \"Аясман\"                   \n",
       "104906  Общество с ограниченной ответственностью \"МАКЕ...     ул.Ананьева   \n",
       "\n",
       "                                Director  \n",
       "4452              Шек Андрей Анатольевич  \n",
       "68017       Синицын Виктор Александрович  \n",
       "77115           Эргешов Нурлан Камчиевич  \n",
       "85882       Туйчиев Султанбек Сатангович  \n",
       "88964                          Ванг Юкин  \n",
       "91465   Закиров Абдил-Насир Сооронбаевич  \n",
       "93797          Григорьев Борис Георгевич  \n",
       "104906        Осмонов Кайрат Аманжолович  "
      ]
     },
     "execution_count": 9,
     "metadata": {},
     "output_type": "execute_result"
    }
   ],
   "source": [
    "#Task 5\n",
    "df.loc[df['Activity'].str.contains(\"строит\")&df['Phone'].str.contains(\"432\")|\n",
    "df['Activity'].str.contains(\"строит\")&df['Phone'].str.contains(\"4 32\")|\n",
    "df['Activity'].str.contains(\"строит\")&df['Phone'].str.contains(\"43-2\")|\n",
    "df['Activity'].str.contains(\"строит\")&df['Phone'].str.contains(\"4-32\")|\n",
    "df['Activity'].str.contains(\"строит\")&df['Phone'].str.contains(\"43 2\"),['Name','Street','Director']]"
   ]
  },
  {
   "cell_type": "code",
   "execution_count": null,
   "metadata": {},
   "outputs": [],
   "source": []
  },
  {
   "cell_type": "code",
   "execution_count": null,
   "metadata": {},
   "outputs": [],
   "source": []
  },
  {
   "cell_type": "code",
   "execution_count": null,
   "metadata": {},
   "outputs": [],
   "source": []
  },
  {
   "cell_type": "code",
   "execution_count": null,
   "metadata": {},
   "outputs": [],
   "source": []
  }
 ],
 "metadata": {
  "kernelspec": {
   "display_name": "Python 3",
   "language": "python",
   "name": "python3"
  },
  "language_info": {
   "codemirror_mode": {
    "name": "ipython",
    "version": 3
   },
   "file_extension": ".py",
   "mimetype": "text/x-python",
   "name": "python",
   "nbconvert_exporter": "python",
   "pygments_lexer": "ipython3",
   "version": "3.7.0"
  }
 },
 "nbformat": 4,
 "nbformat_minor": 2
}
